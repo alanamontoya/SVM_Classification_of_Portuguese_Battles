{
 "cells": [
  {
   "cell_type": "markdown",
   "id": "859c7b1e",
   "metadata": {},
   "source": [
    "***\n",
    "\n",
    "### Problem\n",
    "\n",
    "**In this exercise you will use the Portuguese sea battles data that contains outcomes of naval battles between Portuguese and Dutch/British ships between 1583 and 1663. The dataset has following features:**\n",
    "\n",
    "**_Battle_: Name of the battle place**\n",
    "\n",
    "**_Year_: Year of the battle**\n",
    "\n",
    "**_Portuguese ships_: Number of Portuguese ships**\n",
    "\n",
    "**_Dutch ships_: Number of Dutch ships**\n",
    "\n",
    "**_English ships_: Number of ships from English side**\n",
    "\n",
    "**_Ratio of Portuguese to Dutch/British ships_**\n",
    "\n",
    "**_Spanish Involvement_: $1 = \\text{Yes}$, $0 = \\text{No}$**\n",
    "\n",
    "**_Portuguese outcome_: $-1 = \\text{Defeat}$, $0 = \\text{Draw}$, $1 = \\text{Victory}$**\n",
    "\n",
    "**Use an SVM based model to predict the Portuguese outcome of the battle from the number of ships involved in all sides and Spanish involvement. Try solving the same problem using two other classifiers that you know. Report and compare their results with those from SVM.**\n",
    "\n",
    "***\n",
    "***\n",
    "***"
   ]
  },
  {
   "cell_type": "markdown",
   "id": "40554224",
   "metadata": {},
   "source": [
    "_First we need to import any packages including `pandas`, `numpy`, `pyplot`, `StratifiedKFold`, `svm`, `cross_validate`, `tree`, `GaussianNB`, and `confusion_matrix`._"
   ]
  },
  {
   "cell_type": "code",
   "execution_count": 1,
   "id": "c6c4687f",
   "metadata": {},
   "outputs": [],
   "source": [
    "import pandas as pd\n",
    "import numpy as np\n",
    "import matplotlib.pyplot as plt\n",
    "from sklearn.model_selection import StratifiedKFold\n",
    "from sklearn import svm\n",
    "from sklearn.model_selection import cross_validate\n",
    "from sklearn import tree\n",
    "from sklearn.naive_bayes import GaussianNB\n",
    "from sklearn.metrics import confusion_matrix"
   ]
  },
  {
   "cell_type": "markdown",
   "id": "c08942c7",
   "metadata": {},
   "source": [
    "_Now we can load in the Portuguese sea battles data (`armada`)._"
   ]
  },
  {
   "cell_type": "code",
   "execution_count": 2,
   "id": "408e7885",
   "metadata": {},
   "outputs": [],
   "source": [
    "df_armada = pd.read_excel('armada.xls', engine = 'xlrd')"
   ]
  },
  {
   "cell_type": "markdown",
   "id": "a172c488",
   "metadata": {},
   "source": [
    "_Then we can assign the number of ships involved in all sides (`Prtgship`, `Dtchship`, and `Englship`) and Spanish involvement (`Spanish`) as our features and the Portuguese outcome of a battle (`Result`) as our label._"
   ]
  },
  {
   "cell_type": "code",
   "execution_count": 3,
   "id": "9d046ed2",
   "metadata": {},
   "outputs": [],
   "source": [
    "features = df_armada.drop('Battle', axis = 1).drop('Year', axis = 1).drop('Pratio', axis = 1).drop('Result', axis = 1)\n",
    "label = df_armada['Result']"
   ]
  },
  {
   "cell_type": "markdown",
   "id": "43559044",
   "metadata": {},
   "source": [
    "_Now, we can split our data into testing and training portions using k-fold stratified cross-validation with 5 randomly split \"chunks\"._"
   ]
  },
  {
   "cell_type": "code",
   "execution_count": 4,
   "id": "bb43c8eb",
   "metadata": {},
   "outputs": [
    {
     "name": "stdout",
     "output_type": "stream",
     "text": [
      "TRAIN: [ 0  1  2  3  4  7  8  9 11 12 13 14 15 16 17 18 19 21 22 24 25 27] TEST: [ 5  6 10 20 23 26]\n",
      "TRAIN: [ 0  3  4  5  6  7  8  9 10 11 12 13 14 15 16 18 19 20 22 23 24 26] TEST: [ 1  2 17 21 25 27]\n",
      "TRAIN: [ 0  1  2  5  6  8  9 10 11 12 13 15 16 17 18 20 21 22 23 25 26 27] TEST: [ 3  4  7 14 19 24]\n",
      "TRAIN: [ 1  2  3  4  5  6  7  9 10 11 12 14 15 17 18 19 20 21 23 24 25 26 27] TEST: [ 0  8 13 16 22]\n",
      "TRAIN: [ 0  1  2  3  4  5  6  7  8 10 13 14 16 17 19 20 21 22 23 24 25 26 27] TEST: [ 9 11 12 15 18]\n"
     ]
    }
   ],
   "source": [
    "skf = StratifiedKFold(n_splits = 5, shuffle = True)\n",
    "\n",
    "for train_index, test_index in skf.split(features, label):\n",
    "    print(\"TRAIN:\", train_index, \"TEST:\", test_index)\n",
    "    X_train, X_test = features.iloc[train_index], features.iloc[test_index]\n",
    "    y_train, y_test = label.iloc[train_index], label.iloc[test_index]"
   ]
  },
  {
   "cell_type": "markdown",
   "id": "d0d9d8c5",
   "metadata": {},
   "source": [
    "***\n",
    "\n",
    "#### SVM\n",
    "\n",
    "_First we will predict the Portuguese outcome of a battle using an SVM model._\n",
    "\n",
    "***"
   ]
  },
  {
   "cell_type": "markdown",
   "id": "76bfad8a",
   "metadata": {},
   "source": [
    "_To do this, we first load in the SVM classifier._"
   ]
  },
  {
   "cell_type": "code",
   "execution_count": 5,
   "id": "65e03013",
   "metadata": {},
   "outputs": [],
   "source": [
    "svm_clf = svm.SVC()"
   ]
  },
  {
   "cell_type": "markdown",
   "id": "ce0580a6",
   "metadata": {},
   "source": [
    "_Then we can fit the SVM classifier to our training data to build our model._"
   ]
  },
  {
   "cell_type": "code",
   "execution_count": 6,
   "id": "25b8ebda",
   "metadata": {},
   "outputs": [],
   "source": [
    "svm_model = svm_clf.fit(X_train, y_train)"
   ]
  },
  {
   "cell_type": "markdown",
   "id": "d64df5d4",
   "metadata": {},
   "source": [
    "_Now we can use this model to predict the Portuguese outcome of a battle from our test features (`X_test`)._"
   ]
  },
  {
   "cell_type": "code",
   "execution_count": 7,
   "id": "cae23da0",
   "metadata": {},
   "outputs": [
    {
     "data": {
      "text/plain": [
       "array([0, 0, 0, 0, 0], dtype=int64)"
      ]
     },
     "execution_count": 7,
     "metadata": {},
     "output_type": "execute_result"
    }
   ],
   "source": [
    "y_pred = svm_model.predict(X_test)\n",
    "y_pred"
   ]
  },
  {
   "cell_type": "markdown",
   "id": "0cd64d29",
   "metadata": {},
   "source": [
    "_We can also measure the test accuracy using our test features (`X_test`) and test label (`y_test`)._"
   ]
  },
  {
   "cell_type": "code",
   "execution_count": 8,
   "id": "95ab985f",
   "metadata": {},
   "outputs": [
    {
     "data": {
      "text/plain": [
       "0.4"
      ]
     },
     "execution_count": 8,
     "metadata": {},
     "output_type": "execute_result"
    }
   ],
   "source": [
    "svm_model.score(X_test, y_test)"
   ]
  },
  {
   "cell_type": "markdown",
   "id": "229b5b18",
   "metadata": {},
   "source": [
    "_Since this accuracy is fairly low, we can also look at the confusion matrix._"
   ]
  },
  {
   "cell_type": "code",
   "execution_count": 9,
   "id": "54c35663",
   "metadata": {},
   "outputs": [
    {
     "data": {
      "text/plain": [
       "array([[0, 2, 0],\n",
       "       [0, 2, 0],\n",
       "       [0, 1, 0]], dtype=int64)"
      ]
     },
     "execution_count": 9,
     "metadata": {},
     "output_type": "execute_result"
    }
   ],
   "source": [
    "confusion_matrix(y_test, y_pred)"
   ]
  },
  {
   "cell_type": "markdown",
   "id": "7f778807",
   "metadata": {},
   "source": [
    "_After running the model above mulitple times, this confusion matrix seems to generally stay consistant, meaning that the model mostly predicts the result to be 0 (indicating a draw of a battle). We can further inspect this by checking how large our dataset it and whether the data has balanced classes._"
   ]
  },
  {
   "cell_type": "code",
   "execution_count": 10,
   "id": "781661f4",
   "metadata": {},
   "outputs": [
    {
     "data": {
      "text/plain": [
       "28"
      ]
     },
     "execution_count": 10,
     "metadata": {},
     "output_type": "execute_result"
    }
   ],
   "source": [
    "len(df_armada)"
   ]
  },
  {
   "cell_type": "code",
   "execution_count": 11,
   "id": "c5273178",
   "metadata": {},
   "outputs": [
    {
     "data": {
      "text/plain": [
       " 0    13\n",
       "-1    10\n",
       " 1     5\n",
       "Name: Result, dtype: int64"
      ]
     },
     "execution_count": 11,
     "metadata": {},
     "output_type": "execute_result"
    }
   ],
   "source": [
    "df_armada['Result'].value_counts()"
   ]
  },
  {
   "cell_type": "markdown",
   "id": "ef627616",
   "metadata": {},
   "source": [
    "_The two outputs above indicate that we are working with a very small dataset (which typically is not ideal) and that the classes are generally not balanced (which could be caused by the dataset being so small). In practice we would likely need substantially more data to get better results, though for the purposes of this exercise we can continue with the data we have._"
   ]
  },
  {
   "cell_type": "markdown",
   "id": "f77eeb29",
   "metadata": {},
   "source": [
    "_So, to continue, it would perhaps be better to get an average accuracy of many iterations. So, we can build a function to do this._"
   ]
  },
  {
   "cell_type": "code",
   "execution_count": 12,
   "id": "bdca745c",
   "metadata": {},
   "outputs": [],
   "source": [
    "# Function for finding the average accuracy of SVM models\n",
    "# n          ->   number of iterations\n",
    "# features   ->   the features for the model to use\n",
    "# label      ->   the label for the model to use\n",
    "def get_avg_svm_accuracy(n, features, label):\n",
    "    \n",
    "    # Set the total training and testing accuracy to be 0\n",
    "    train_tot_acc = 0\n",
    "    test_tot_acc = 0\n",
    "    \n",
    "    # Set the placeholders for minimum and maximum accuracies\n",
    "    min_train_score = 2\n",
    "    max_train_score = -1\n",
    "    min_test_score = 2\n",
    "    max_test_score = -1\n",
    "    \n",
    "    # Iterate through process n number of times\n",
    "    for i in range(0, n):\n",
    "        \n",
    "        # Set up k-fold cross-validation to split the data randomly into 5 \"chunks\"\n",
    "        skf = StratifiedKFold(n_splits = 5, shuffle = True)\n",
    "\n",
    "        # Measure the accuracy of the model in the iteration\n",
    "        cross_val = cross_validate(svm_clf, features, label, cv = skf, return_train_score = True)\n",
    "        \n",
    "        # Find the accuracy scores in the iteration\n",
    "        train_scores = cross_val['train_score']\n",
    "        test_scores = cross_val['test_score']\n",
    "        \n",
    "        # Find the average accuracy scores in the iteration\n",
    "        train_acc = np.mean(train_scores)\n",
    "        test_acc = np.mean(test_scores)\n",
    "        \n",
    "        # Add the average accuracy score in the iteration to the total accuracy score\n",
    "        train_tot_acc = train_tot_acc + train_acc\n",
    "        test_tot_acc = test_tot_acc + test_acc\n",
    "    \n",
    "    # Find the average accuracy of all the iterations\n",
    "    train_avg_acc = (train_tot_acc / n)\n",
    "    test_avg_acc = (test_tot_acc / n)\n",
    "    \n",
    "    # Add the variables to a dictionary\n",
    "    data = {'Train Average Accuracy' : train_avg_acc, 'Test Average Accuracy' : test_avg_acc}\n",
    "    \n",
    "    # Turn the `data` dictionary into a dataframe\n",
    "    df_svm_metrics = pd.DataFrame([data])\n",
    "    \n",
    "    # Return the dataframe\n",
    "    return(df_svm_metrics)"
   ]
  },
  {
   "cell_type": "markdown",
   "id": "a5be27b2",
   "metadata": {},
   "source": [
    "_Now we can use this function to get the average accuracy of the SVM models over the course of 200 iterations._"
   ]
  },
  {
   "cell_type": "code",
   "execution_count": 13,
   "id": "cb934f4d",
   "metadata": {},
   "outputs": [
    {
     "data": {
      "text/html": [
       "<div>\n",
       "<style scoped>\n",
       "    .dataframe tbody tr th:only-of-type {\n",
       "        vertical-align: middle;\n",
       "    }\n",
       "\n",
       "    .dataframe tbody tr th {\n",
       "        vertical-align: top;\n",
       "    }\n",
       "\n",
       "    .dataframe thead th {\n",
       "        text-align: right;\n",
       "    }\n",
       "</style>\n",
       "<table border=\"1\" class=\"dataframe\">\n",
       "  <thead>\n",
       "    <tr style=\"text-align: right;\">\n",
       "      <th></th>\n",
       "      <th>Train Average Accuracy</th>\n",
       "      <th>Test Average Accuracy</th>\n",
       "    </tr>\n",
       "  </thead>\n",
       "  <tbody>\n",
       "    <tr>\n",
       "      <th>0</th>\n",
       "      <td>0.571923</td>\n",
       "      <td>0.446267</td>\n",
       "    </tr>\n",
       "  </tbody>\n",
       "</table>\n",
       "</div>"
      ],
      "text/plain": [
       "   Train Average Accuracy  Test Average Accuracy\n",
       "0                0.571923               0.446267"
      ]
     },
     "execution_count": 13,
     "metadata": {},
     "output_type": "execute_result"
    }
   ],
   "source": [
    "get_avg_svm_accuracy(200, features, label)"
   ]
  },
  {
   "cell_type": "markdown",
   "id": "fe069348",
   "metadata": {},
   "source": [
    "_From this we see that neither the training or testing accuracy is very high, though now we can compare this performance to other types of classifiers._"
   ]
  },
  {
   "cell_type": "markdown",
   "id": "bc805962",
   "metadata": {},
   "source": [
    "***\n",
    "\n",
    "#### Decision Trees\n",
    "\n",
    "_Next we can predict the Portuguese outcome of a battle using decision trees._\n",
    "\n",
    "***"
   ]
  },
  {
   "cell_type": "markdown",
   "id": "485e5b1f",
   "metadata": {},
   "source": [
    "_Again, it is better to look at the average accuracy over many iterations. But first, we need to determine what maximum depth should be used for the desicion trees. So, we can build a funtion that takes in features and a label as parameters and plots how the accuracies vary based on the maximum depth._"
   ]
  },
  {
   "cell_type": "code",
   "execution_count": 14,
   "id": "01d682d8",
   "metadata": {},
   "outputs": [],
   "source": [
    "# Function for ploting the accuracy scores of decision trees at different maximum tree depths\n",
    "# features   ->   the features for the model to use\n",
    "# label      ->   the label for the model to use\n",
    "def plot_dt_max_depth_acc(features, label):\n",
    "    \n",
    "    # Create lists to track the maximum depths and respective accuracies of the test and train data\n",
    "    max_depth = []\n",
    "    train_max_depth_acc = []\n",
    "    test_max_depth_acc = []\n",
    "    \n",
    "    # Iterate through the maximum depth from 1 to 10\n",
    "    for i in range (1, 11):\n",
    "        \n",
    "        # Add the current maximum depth to the `max_depth` list\n",
    "        max_depth.append(i)\n",
    "        \n",
    "        # Build the DecisionTreeClassifier model and set the max_depth to the given value of i in the iteration and\n",
    "        # indicate to choose parameters based on the largest expected “information gain” (impurity/entropy)\n",
    "        d_tree = tree.DecisionTreeClassifier(max_depth = i, criterion = \"entropy\")\n",
    "        \n",
    "        # Measure the accuracy of the model\n",
    "        cross_val = cross_validate(d_tree, features, label, cv = 5, return_train_score = True)\n",
    "        \n",
    "        # Find the accuracy scores given the indicated maximum depth\n",
    "        train_scores = cross_val['train_score']\n",
    "        test_scores = cross_val['test_score']\n",
    "    \n",
    "        # Find the average accuracy scores given the indicated maximum depth and add them to their respective lists\n",
    "        train_max_depth_acc.append(np.mean(train_scores))\n",
    "        test_max_depth_acc.append(np.mean(test_scores))\n",
    "    \n",
    "    # Add the lists to a dictionary\n",
    "    data = {'max_depth' : max_depth,\n",
    "            'train_max_depth_acc' : train_max_depth_acc,\n",
    "            'test_max_depth_acc' : test_max_depth_acc}\n",
    "    \n",
    "    # Turn the `data` dictionary into a dataframe\n",
    "    df_max_depth_acc = pd.DataFrame(data)\n",
    "    \n",
    "    # Plot the dataframe\n",
    "    plt.plot(max_depth, train_max_depth_acc, color = 'red', marker = 'o')\n",
    "    plt.plot(max_depth, test_max_depth_acc, color = 'blue', marker = 'o')\n",
    "    plt.grid(True)\n",
    "    plt.title('Decision Tree Depth Accuracies')\n",
    "    plt.xlabel('Maximum Decision Tree Depth')\n",
    "    plt.ylabel('Accuracy')\n",
    "    plt.show()"
   ]
  },
  {
   "cell_type": "markdown",
   "id": "5dc4e3d5",
   "metadata": {},
   "source": [
    "_Now we can apply this function to determine the decision tree depth._"
   ]
  },
  {
   "cell_type": "code",
   "execution_count": 15,
   "id": "4ee26c3c",
   "metadata": {},
   "outputs": [
    {
     "data": {
      "image/png": "[encoded data removed]",
      "text/plain": [
       "<Figure size 432x288 with 1 Axes>"
      ]
     },
     "metadata": {
      "needs_background": "light"
     },
     "output_type": "display_data"
    }
   ],
   "source": [
    "plot_dt_max_depth_acc(features, label)"
   ]
  },
  {
   "cell_type": "markdown",
   "id": "6a14a993",
   "metadata": {},
   "source": [
    "_From this plot we can see that the accuracy diverges when the maximum decision tree depth is 3, meaning that this is a good value to use as the maximum decision tree depth. Hence, we can assign this to a variable to use going forward._"
   ]
  },
  {
   "cell_type": "code",
   "execution_count": 16,
   "id": "2064950c",
   "metadata": {},
   "outputs": [],
   "source": [
    "dt_max_depth = 3"
   ]
  },
  {
   "cell_type": "markdown",
   "id": "2acdab77",
   "metadata": {},
   "source": [
    "_Now, we can build a similar function as in the case of the SVM model that finds the average accuracy of the decision tree models over many iterations._"
   ]
  },
  {
   "cell_type": "code",
   "execution_count": 17,
   "id": "019faa34",
   "metadata": {},
   "outputs": [],
   "source": [
    "# Function for finding the average accuracy of decision trees\n",
    "# max_depth  ->   maximum decision tree depth\n",
    "# n          ->   number of iterations\n",
    "# features   ->   the features for the model to use\n",
    "# label      ->   the label for the model to use\n",
    "def get_avg_dt_accuracy(max_depth, n, features, label):\n",
    "\n",
    "    # Build the DecisionTreeClassifier model and set the max_depth to the given parameter (max_depth) and indicate\n",
    "    # to choose parameters based on the largest expected “information gain” (impurity/entropy)\n",
    "    d_tree = tree.DecisionTreeClassifier(max_depth = max_depth, criterion = \"entropy\")\n",
    "    \n",
    "    # Set the total training and testing accuracy to be 0\n",
    "    train_tot_acc = 0\n",
    "    test_tot_acc = 0\n",
    "    \n",
    "    # Set the placeholders for minimum and maximum accuracies\n",
    "    min_train_score = 2\n",
    "    max_train_score = -1\n",
    "    min_test_score = 2\n",
    "    max_test_score = -1\n",
    "    \n",
    "    # Iterate through process n number of times\n",
    "    for i in range(0, n):\n",
    "        \n",
    "        # Set up stratified k-fold cross-validation to split the data randomly into 5 \"chunks\"\n",
    "        skf = StratifiedKFold(n_splits = 5, shuffle = True)\n",
    "\n",
    "        # Measure the accuracy of the model in the iteration\n",
    "        cross_val = cross_validate(d_tree, features, label, cv = skf, return_train_score = True)\n",
    "        \n",
    "        # Find the accuracy scores in the iteration\n",
    "        train_scores = cross_val['train_score']\n",
    "        test_scores = cross_val['test_score']\n",
    "        \n",
    "        # Find the average accuracy scores in the iteration\n",
    "        train_acc = np.mean(train_scores)\n",
    "        test_acc = np.mean(test_scores)\n",
    "        \n",
    "        # Add the average accuracy score in the iteration to the total accuracy score\n",
    "        train_tot_acc = train_tot_acc + train_acc\n",
    "        test_tot_acc = test_tot_acc + test_acc\n",
    "    \n",
    "    # Find the average accuracy of all the iterations\n",
    "    train_avg_acc = (train_tot_acc/n)\n",
    "    test_avg_acc = (test_tot_acc/n)\n",
    "    \n",
    "    # Add the variables to a dictionary\n",
    "    data = {'Train Average Accuracy' : train_avg_acc, 'Test Average Accuracy' : test_avg_acc}\n",
    "    \n",
    "    # Turn the `data` dictionary into a dataframe\n",
    "    df_dt_metrics = pd.DataFrame([data])\n",
    "    \n",
    "    # Return the dataframe\n",
    "    return(df_dt_metrics)"
   ]
  },
  {
   "cell_type": "markdown",
   "id": "61a52450",
   "metadata": {},
   "source": [
    "_Now we can use this function to get the average accuracy of the decision tree models over the course of 200 iterations._"
   ]
  },
  {
   "cell_type": "code",
   "execution_count": 18,
   "id": "d1a5408d",
   "metadata": {},
   "outputs": [
    {
     "data": {
      "text/html": [
       "<div>\n",
       "<style scoped>\n",
       "    .dataframe tbody tr th:only-of-type {\n",
       "        vertical-align: middle;\n",
       "    }\n",
       "\n",
       "    .dataframe tbody tr th {\n",
       "        vertical-align: top;\n",
       "    }\n",
       "\n",
       "    .dataframe thead th {\n",
       "        text-align: right;\n",
       "    }\n",
       "</style>\n",
       "<table border=\"1\" class=\"dataframe\">\n",
       "  <thead>\n",
       "    <tr style=\"text-align: right;\">\n",
       "      <th></th>\n",
       "      <th>Train Average Accuracy</th>\n",
       "      <th>Test Average Accuracy</th>\n",
       "    </tr>\n",
       "  </thead>\n",
       "  <tbody>\n",
       "    <tr>\n",
       "      <th>0</th>\n",
       "      <td>0.713308</td>\n",
       "      <td>0.400533</td>\n",
       "    </tr>\n",
       "  </tbody>\n",
       "</table>\n",
       "</div>"
      ],
      "text/plain": [
       "   Train Average Accuracy  Test Average Accuracy\n",
       "0                0.713308               0.400533"
      ]
     },
     "execution_count": 18,
     "metadata": {},
     "output_type": "execute_result"
    }
   ],
   "source": [
    "get_avg_dt_accuracy(dt_max_depth, 200, features, label)"
   ]
  },
  {
   "cell_type": "markdown",
   "id": "d75dae0c",
   "metadata": {},
   "source": [
    "_Comparing this to the SVM models, we can see that the decision tree models have a higher average training accuracy though a slightly lower average testing accuracy._"
   ]
  },
  {
   "cell_type": "markdown",
   "id": "e9d2669c",
   "metadata": {},
   "source": [
    "***\n",
    "\n",
    "#### Naive Bayes\n",
    "\n",
    "_Lastly we can predict the Portuguese outcome of a battle using Naive Bayes._\n",
    "\n",
    "***"
   ]
  },
  {
   "cell_type": "markdown",
   "id": "c1320bb8",
   "metadata": {},
   "source": [
    "_Same as with the first two types of models, it is better to look at the average accuracy over many iterations. So, we can build a similar function that finds the average accuracy of the Naive Bayes models over many iterations._"
   ]
  },
  {
   "cell_type": "code",
   "execution_count": 19,
   "id": "71bd54c7",
   "metadata": {},
   "outputs": [],
   "source": [
    "# Function for finding the average accuracy of Naive Bayes models\n",
    "# n          ->   number of iterations\n",
    "# features   ->   the features for the model to use\n",
    "# label      ->   the label for the model to use\n",
    "def get_avg_nb_accuracy(n, features, label):\n",
    "\n",
    "    # Load in Naive Bayes classifier    \n",
    "    nb_clf = GaussianNB()\n",
    "    \n",
    "    # Set the total training and testing accuracy to be 0\n",
    "    train_tot_acc = 0\n",
    "    test_tot_acc = 0\n",
    "    \n",
    "    # Set the placeholders for minimum and maximum accuracies\n",
    "    min_train_score = 2\n",
    "    max_train_score = -1\n",
    "    min_test_score = 2\n",
    "    max_test_score = -1\n",
    "    \n",
    "    # Iterate through process n number of times\n",
    "    for i in range(0, n):\n",
    "        \n",
    "        # Set up stratified k-fold cross-validation to split the data randomly into 5 \"chunks\"\n",
    "        skf = StratifiedKFold(n_splits=5, shuffle = True)\n",
    "\n",
    "        # Measure the accuracy of the model in the iteration\n",
    "        cross_val = cross_validate(nb_clf, features, label, cv = skf, return_train_score = True)\n",
    "        \n",
    "        # Find the accuracy scores in the iteration\n",
    "        train_scores = cross_val['train_score']\n",
    "        test_scores = cross_val['test_score']\n",
    "        \n",
    "        # Find the average accuracy scores in the iteration\n",
    "        train_acc = np.mean(train_scores)\n",
    "        test_acc = np.mean(test_scores)\n",
    "        \n",
    "        # Add the average accuracy score in the iteration to the total accuracy score\n",
    "        train_tot_acc = train_tot_acc + train_acc\n",
    "        test_tot_acc = test_tot_acc + test_acc\n",
    "    \n",
    "    # Find the average accuracy of all the iterations\n",
    "    train_avg_acc = (train_tot_acc/n)\n",
    "    test_avg_acc = (test_tot_acc/n)\n",
    "    \n",
    "    # Add the variables to a dictionary\n",
    "    data = {'Train Average Accuracy' : train_avg_acc, 'Test Average Accuracy' : test_avg_acc}\n",
    "    \n",
    "    # Turn the `data` dictionary into a dataframe\n",
    "    df_nb_metrics = pd.DataFrame([data])\n",
    "    \n",
    "    # Return the dataframe\n",
    "    return(df_nb_metrics)"
   ]
  },
  {
   "cell_type": "markdown",
   "id": "6af8f233",
   "metadata": {},
   "source": [
    "_Now we can use this function to get the average accuracy of the Naive Bayes models over the course of 200 iterations._"
   ]
  },
  {
   "cell_type": "code",
   "execution_count": 20,
   "id": "7cdcadb8",
   "metadata": {},
   "outputs": [
    {
     "data": {
      "text/html": [
       "<div>\n",
       "<style scoped>\n",
       "    .dataframe tbody tr th:only-of-type {\n",
       "        vertical-align: middle;\n",
       "    }\n",
       "\n",
       "    .dataframe tbody tr th {\n",
       "        vertical-align: top;\n",
       "    }\n",
       "\n",
       "    .dataframe thead th {\n",
       "        text-align: right;\n",
       "    }\n",
       "</style>\n",
       "<table border=\"1\" class=\"dataframe\">\n",
       "  <thead>\n",
       "    <tr style=\"text-align: right;\">\n",
       "      <th></th>\n",
       "      <th>Train Average Accuracy</th>\n",
       "      <th>Test Average Accuracy</th>\n",
       "    </tr>\n",
       "  </thead>\n",
       "  <tbody>\n",
       "    <tr>\n",
       "      <th>0</th>\n",
       "      <td>0.414506</td>\n",
       "      <td>0.322867</td>\n",
       "    </tr>\n",
       "  </tbody>\n",
       "</table>\n",
       "</div>"
      ],
      "text/plain": [
       "   Train Average Accuracy  Test Average Accuracy\n",
       "0                0.414506               0.322867"
      ]
     },
     "execution_count": 20,
     "metadata": {},
     "output_type": "execute_result"
    }
   ],
   "source": [
    "get_avg_nb_accuracy(200, features, label)"
   ]
  },
  {
   "cell_type": "markdown",
   "id": "accbebcb",
   "metadata": {},
   "source": [
    "_Comparing this to the SVM models, we can see that the Naive Bayes models have both a lower average training and testing accuracy._"
   ]
  },
  {
   "cell_type": "markdown",
   "id": "4f886efc",
   "metadata": {},
   "source": [
    "##### _Conclusion:_\n",
    "\n",
    "_In summary, none of the classifier models performed very well. Comparatively, the SVM models did perform better than the decision tree models and the Naive Bayes models, though none of the models produced acceptable accuracy scores. However, as noted previously, it is typically not ideal to be working with such a small dataset, which is likely why none of our models performed very well. In practice, we would have access to more data to train our models on which would likely improve model performance._"
   ]
  }
 ],
 "metadata": {
  "kernelspec": {
   "display_name": "Python 3 (ipykernel)",
   "language": "python",
   "name": "python3"
  },
  "language_info": {
   "codemirror_mode": {
    "name": "ipython",
    "version": 3
   },
   "file_extension": ".py",
   "mimetype": "text/x-python",
   "name": "python",
   "nbconvert_exporter": "python",
   "pygments_lexer": "ipython3",
   "version": "3.9.7"
  }
 },
 "nbformat": 4,
 "nbformat_minor": 5
}
